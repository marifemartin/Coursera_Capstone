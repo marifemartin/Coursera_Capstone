{
    "cells": [
        {
            "cell_type": "code",
            "execution_count": 1,
            "metadata": {},
            "outputs": [],
            "source": "# This notebook will be mainly used for the capstone project"
        },
        {
            "cell_type": "code",
            "execution_count": 2,
            "metadata": {},
            "outputs": [],
            "source": "import pandas as pd\nimport numpy as np"
        },
        {
            "cell_type": "code",
            "execution_count": 3,
            "metadata": {},
            "outputs": [
                {
                    "name": "stdout",
                    "output_type": "stream",
                    "text": "Hello Capstone Project Course!\n"
                }
            ],
            "source": "print('Hello Capstone Project Course!')"
        },
        {
            "cell_type": "markdown",
            "metadata": {},
            "source": "## Description of the problem: \n\nCar accidents are a serious problem in many cities/countries around the world, because they cause human fatality, property damages, medical costs, legal bills and so on,\nwhich translate into huge amounts of dollars impacting the economy and wealth of a city.\nWe can group the causes of car collisions into two main groups:\n    - controllable: attention to driving, drugs, alcohol and speed.\n    - uncontrollable: weather, road and visibility conditions when driving.\n\n### **How can we help with this issue?**\nBy studying data from past car collisions, then creating a ML model that predict in advance the severity of future car accidents based on the similarity of their conditions\nto those of previous accidents in the historical records.\nWe would like to achieve the following benefits:\n     + warn other vehicles drivers about the accident, its severity and consequences\n     + anticipate the results of car accidents to inform involved units like Police, ER services...\n     + provide assurance companies with valuable information about severe car collisions.\n     \nSo we can easily conclude that the main beneficiaries of this model would be the Police forces, the City planners, ER services, the Public Authority and other car drivers."
        },
        {
            "cell_type": "markdown",
            "metadata": {},
            "source": "## Data\n\nThe dataset has been provided by the Seattle Department of Transportation (SDOT) and contains car collisions data happened in the city of Seattle from 2004 to present. There are 221738 datapoints in the dataset along with 40 dimensions, reporting on how and when these accidents took place with the environmental factors like weather, light, road conditions, date, hour, and so on. \n\nSince we want to predict the level of severity of the car collisions, we will use the dimension SEVERITYCODE as the dependent variable (Y) and consider some of the other variables as the independents ones (X) to get a result. As there are many independents variables, we will need to identify the related dimensions first.\nThe severity of a car collision is our predictor and it can register five levels:\n\n   0- unknown\n   1- prop damage\n   2- injury\n   2b- serious injury\n   3- fatality\n\nSome of the other attributes presented in the dataset and consider as independent variables are: Location, CollisionType, PersonCount, Injuries, Fatalities, IncDate, InattentionInd, Underinfl, Weather, Roadcond, Lightcond, Speeding,...\n\n"
        }
    ],
    "metadata": {
        "kernelspec": {
            "display_name": "Python 3.6",
            "language": "python",
            "name": "python3"
        },
        "language_info": {
            "codemirror_mode": {
                "name": "ipython",
                "version": 3
            },
            "file_extension": ".py",
            "mimetype": "text/x-python",
            "name": "python",
            "nbconvert_exporter": "python",
            "pygments_lexer": "ipython3",
            "version": "3.6.9"
        }
    },
    "nbformat": 4,
    "nbformat_minor": 1
}